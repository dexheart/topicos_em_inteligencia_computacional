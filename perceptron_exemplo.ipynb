{
 "cells": [
  {
   "cell_type": "markdown",
   "id": "60d0b8c7-bf45-49f1-9837-6eda5e4b7d15",
   "metadata": {},
   "source": [
    "# Disciplina de Tópicos em Inteligencia Computacional"
   ]
  },
  {
   "cell_type": "markdown",
   "id": "3f40c126-6da2-493f-83d5-3a638c58f3c3",
   "metadata": {
    "execution": {
     "iopub.execute_input": "2022-11-27T19:48:13.209517Z",
     "iopub.status.busy": "2022-11-27T19:48:13.208782Z",
     "iopub.status.idle": "2022-11-27T19:48:13.219588Z",
     "shell.execute_reply": "2022-11-27T19:48:13.218417Z",
     "shell.execute_reply.started": "2022-11-27T19:48:13.209304Z"
    }
   },
   "source": [
    "### Imports Bibliotecas Importantes"
   ]
  },
  {
   "cell_type": "code",
   "execution_count": 1,
   "id": "d83fc0c1-8c2b-45ef-ba89-89db0bc96c6f",
   "metadata": {
    "execution": {
     "iopub.execute_input": "2022-11-29T22:29:19.974008Z",
     "iopub.status.busy": "2022-11-29T22:29:19.973446Z",
     "iopub.status.idle": "2022-11-29T22:29:21.426027Z",
     "shell.execute_reply": "2022-11-29T22:29:21.424895Z",
     "shell.execute_reply.started": "2022-11-29T22:29:19.973862Z"
    }
   },
   "outputs": [],
   "source": [
    "# inline plotting instead of popping out\n",
    "%matplotlib inline\n",
    "\n",
    "import os, math\n",
    "from IPython.display import Image\n",
    "import numpy as np\n",
    "seed = np.random.seed\n",
    "\n",
    "import pandas as pd\n",
    "import matplotlib.pyplot as plt\n",
    "\n",
    "from sklearn.linear_model import Perceptron\n",
    "from sklearn.metrics import accuracy_score\n",
    "from sklearn.model_selection import train_test_split\n",
    "from sklearn.preprocessing import StandardScaler"
   ]
  },
  {
   "cell_type": "markdown",
   "id": "87bd389e-69d4-40d7-8be1-14e4a86d1443",
   "metadata": {},
   "source": [
    "### Carregando Base de Dados"
   ]
  },
  {
   "cell_type": "markdown",
   "id": "afc972c5-dabc-409c-ab22-1519949b9f8e",
   "metadata": {},
   "source": [
    "Neste exemplo será utilizada a base de dados Iris. O modelo Perceptron foi originalmente projetado para problemas de classificação binária. No entanto, utilizando bibliotecas como o Scikit-learn é capaz de prever os rótulos de várias classes (3 neste caso). Nos exemplos abaixo serão uitilizadas apenas 2 classes para tornar os modelos capazes de resolver problemas linearmente separáveis."
   ]
  },
  {
   "cell_type": "code",
   "execution_count": 2,
   "id": "0fe3f9c2-6ebc-4f86-bc08-49b7463f9744",
   "metadata": {
    "execution": {
     "iopub.execute_input": "2022-11-29T22:29:21.427693Z",
     "iopub.status.busy": "2022-11-29T22:29:21.427505Z",
     "iopub.status.idle": "2022-11-29T22:29:21.457562Z",
     "shell.execute_reply": "2022-11-29T22:29:21.456615Z",
     "shell.execute_reply.started": "2022-11-29T22:29:21.427672Z"
    },
    "tags": []
   },
   "outputs": [
    {
     "data": {
      "text/html": [
       "<div>\n",
       "<style scoped>\n",
       "    .dataframe tbody tr th:only-of-type {\n",
       "        vertical-align: middle;\n",
       "    }\n",
       "\n",
       "    .dataframe tbody tr th {\n",
       "        vertical-align: top;\n",
       "    }\n",
       "\n",
       "    .dataframe thead th {\n",
       "        text-align: right;\n",
       "    }\n",
       "</style>\n",
       "<table border=\"1\" class=\"dataframe\">\n",
       "  <thead>\n",
       "    <tr style=\"text-align: right;\">\n",
       "      <th></th>\n",
       "      <th>Sepal length</th>\n",
       "      <th>Sepal width</th>\n",
       "      <th>Petal length</th>\n",
       "      <th>Petal width</th>\n",
       "      <th>Class label</th>\n",
       "    </tr>\n",
       "  </thead>\n",
       "  <tbody>\n",
       "    <tr>\n",
       "      <th>1</th>\n",
       "      <td>5.1</td>\n",
       "      <td>3.5</td>\n",
       "      <td>1.4</td>\n",
       "      <td>0.2</td>\n",
       "      <td>Iris-setosa</td>\n",
       "    </tr>\n",
       "    <tr>\n",
       "      <th>2</th>\n",
       "      <td>4.9</td>\n",
       "      <td>3.0</td>\n",
       "      <td>1.4</td>\n",
       "      <td>0.2</td>\n",
       "      <td>Iris-setosa</td>\n",
       "    </tr>\n",
       "    <tr>\n",
       "      <th>3</th>\n",
       "      <td>4.7</td>\n",
       "      <td>3.2</td>\n",
       "      <td>1.3</td>\n",
       "      <td>0.2</td>\n",
       "      <td>Iris-setosa</td>\n",
       "    </tr>\n",
       "    <tr>\n",
       "      <th>4</th>\n",
       "      <td>4.6</td>\n",
       "      <td>3.1</td>\n",
       "      <td>1.5</td>\n",
       "      <td>0.2</td>\n",
       "      <td>Iris-setosa</td>\n",
       "    </tr>\n",
       "    <tr>\n",
       "      <th>5</th>\n",
       "      <td>5.0</td>\n",
       "      <td>3.6</td>\n",
       "      <td>1.4</td>\n",
       "      <td>0.2</td>\n",
       "      <td>Iris-setosa</td>\n",
       "    </tr>\n",
       "  </tbody>\n",
       "</table>\n",
       "</div>"
      ],
      "text/plain": [
       "  Sepal length Sepal width Petal length Petal width  Class label\n",
       "1          5.1         3.5          1.4         0.2  Iris-setosa\n",
       "2          4.9         3.0          1.4         0.2  Iris-setosa\n",
       "3          4.7         3.2          1.3         0.2  Iris-setosa\n",
       "4          4.6         3.1          1.5         0.2  Iris-setosa\n",
       "5          5.0         3.6          1.4         0.2  Iris-setosa"
      ]
     },
     "metadata": {},
     "output_type": "display_data"
    }
   ],
   "source": [
    "df = pd.read_csv('/data/dataset/Iris/iris.data',\n",
    "    header = None\n",
    ")\n",
    "df = df.drop(index=0)\n",
    "df.columns = ['Sepal length', 'Sepal width', 'Petal length', 'Petal width', 'Class label']\n",
    "display(df.head())\n",
    "\n",
    "X = df[['Petal length', 'Petal width']].values\n",
    "y = pd.factorize(df['Class label'])[0]\n",
    "\n"
   ]
  },
  {
   "cell_type": "markdown",
   "id": "3e3445d3-dcfb-4938-8098-54650502c31d",
   "metadata": {},
   "source": [
    "Logo abaixo é feita a conversão da base original em duas classes."
   ]
  },
  {
   "cell_type": "code",
   "execution_count": 3,
   "id": "e1dd640e-3bd4-45d0-b767-02c8c825873a",
   "metadata": {
    "execution": {
     "iopub.execute_input": "2022-11-29T22:29:21.458715Z",
     "iopub.status.busy": "2022-11-29T22:29:21.458564Z",
     "iopub.status.idle": "2022-11-29T22:29:21.545733Z",
     "shell.execute_reply": "2022-11-29T22:29:21.544209Z",
     "shell.execute_reply.started": "2022-11-29T22:29:21.458698Z"
    }
   },
   "outputs": [
    {
     "name": "stdout",
     "output_type": "stream",
     "text": [
      "#Training data points: 90\n",
      "#Testing data points: 10\n",
      "Class labels: [-1  1]\n"
     ]
    }
   ],
   "source": [
    "X = X[50:150]\n",
    "y = np.where(y[50:150] == 2, -1, y[50:150])\n",
    "\n",
    "#display(X)\n",
    "#display(y)\n",
    "\n",
    "X_train, X_test, y_train, y_test = train_test_split(\n",
    "    X, y, test_size=0.1, random_state=1)\n",
    "\n",
    "sc = StandardScaler()\n",
    "sc.fit(X_train)\n",
    "X_train_std = sc.transform(X_train)\n",
    "X_test_std = sc.transform(X_test)\n",
    "\n",
    "print('#Training data points: %d' % X_train.shape[0])\n",
    "print('#Testing data points: %d' % X_test.shape[0])\n",
    "print('Class labels: %s' % np.unique(y))"
   ]
  },
  {
   "cell_type": "markdown",
   "id": "72cb23ff-4b73-4443-bc43-eeccdf43bff2",
   "metadata": {},
   "source": [
    "### Normalização dos Dados"
   ]
  },
  {
   "cell_type": "markdown",
   "id": "f813f492-32dd-4afc-ae01-9fb30892e979",
   "metadata": {},
   "source": [
    "O gradiente descendente pode ter um desempenho ruim se o Hessiano da função f a ser minimizado tem um grande número de condições. Neste caso, a superfície de f pode ser curvo em algumas direções, mas plano em outras. Portanto, o gradiente descendente, que ignora as curvaturas, pode ultrapassar o ponto ideal ao longo das direções curvas, mas dar um passo muito pequeno nas direções planas.\n",
    "\n",
    "OBS: Se essa parte do código abaixo não for realizada, a taxa de acurácia de todos os modelos treinados neste notebook caem para baixo de 40%\n",
    "\n",
    "Uma maneira comum de melhorar o condicionamento de f é padronizar conjunto de dados x, do seguinte modo:"
   ]
  },
  {
   "cell_type": "code",
   "execution_count": 4,
   "id": "b57331af-ead5-4fc6-a596-0d1f16000dc7",
   "metadata": {
    "execution": {
     "iopub.execute_input": "2022-11-29T22:29:21.549220Z",
     "iopub.status.busy": "2022-11-29T22:29:21.548928Z",
     "iopub.status.idle": "2022-11-29T22:29:21.638712Z",
     "shell.execute_reply": "2022-11-29T22:29:21.637111Z",
     "shell.execute_reply.started": "2022-11-29T22:29:21.549186Z"
    }
   },
   "outputs": [],
   "source": [
    "sc = StandardScaler()\n",
    "sc.fit(X_train)\n",
    "X_train_std = sc.transform(X_train)\n",
    "X_test_std = sc.transform(X_test)"
   ]
  },
  {
   "cell_type": "markdown",
   "id": "a060a5df-0157-47b8-9424-df9231d3f946",
   "metadata": {},
   "source": [
    "## Perceptron Scikit-Learn"
   ]
  },
  {
   "cell_type": "markdown",
   "id": "a5b68694-c66e-457d-9947-3760b6353296",
   "metadata": {},
   "source": [
    "Abaixo é feito um experimento utilizando a biblioteca do Scikit-Learn, apesar do resultado semelhante aos dos outros modelos, este Perceptron é capaz de resolver problemas não linearmente separáveis."
   ]
  },
  {
   "cell_type": "code",
   "execution_count": 5,
   "id": "b3a9458e-8a2a-44ee-92e3-7fcd0639b9bc",
   "metadata": {
    "execution": {
     "iopub.execute_input": "2022-11-29T22:29:21.641237Z",
     "iopub.status.busy": "2022-11-29T22:29:21.640773Z",
     "iopub.status.idle": "2022-11-29T22:29:21.743714Z",
     "shell.execute_reply": "2022-11-29T22:29:21.742663Z",
     "shell.execute_reply.started": "2022-11-29T22:29:21.641182Z"
    }
   },
   "outputs": [
    {
     "data": {
      "text/plain": [
       "Perceptron(eta0=0.1, max_iter=10)"
      ]
     },
     "execution_count": 5,
     "metadata": {},
     "output_type": "execute_result"
    }
   ],
   "source": [
    "ppn = Perceptron(max_iter=10, eta0=0.1, random_state=0)\n",
    "ppn.fit(X_train_std, y_train)"
   ]
  },
  {
   "cell_type": "code",
   "execution_count": 6,
   "id": "2c6374a2-0b06-4c56-93cf-2c06100deb5e",
   "metadata": {
    "execution": {
     "iopub.execute_input": "2022-11-29T22:29:21.745535Z",
     "iopub.status.busy": "2022-11-29T22:29:21.745209Z",
     "iopub.status.idle": "2022-11-29T22:29:21.840487Z",
     "shell.execute_reply": "2022-11-29T22:29:21.838844Z",
     "shell.execute_reply.started": "2022-11-29T22:29:21.745497Z"
    }
   },
   "outputs": [
    {
     "name": "stdout",
     "output_type": "stream",
     "text": [
      "Misclassified samples: 2\n",
      "Accuracy: 0.80\n"
     ]
    }
   ],
   "source": [
    "y_pred = ppn.predict(X_test_std)\n",
    "print('Misclassified samples: %d' % (y_test != y_pred).sum())\n",
    "print('Accuracy: %.2f' % accuracy_score(y_test, y_pred))"
   ]
  },
  {
   "cell_type": "markdown",
   "id": "e1c8ec4d-1767-4aa1-a5d7-3e0e05e3a816",
   "metadata": {},
   "source": [
    "## Implementação Perceptron"
   ]
  },
  {
   "cell_type": "markdown",
   "id": "e9bd8f5a-1eef-45c5-a786-298aba6b0f07",
   "metadata": {},
   "source": [
    "Abaixo a implementação do Perceptron normal sem a utilização da biblioteca Scikit-Learn"
   ]
  },
  {
   "cell_type": "code",
   "execution_count": 7,
   "id": "27cfa196-05a4-408c-a337-c52013c617aa",
   "metadata": {
    "execution": {
     "iopub.execute_input": "2022-11-29T22:29:21.843366Z",
     "iopub.status.busy": "2022-11-29T22:29:21.842724Z",
     "iopub.status.idle": "2022-11-29T22:29:21.964710Z",
     "shell.execute_reply": "2022-11-29T22:29:21.963146Z",
     "shell.execute_reply.started": "2022-11-29T22:29:21.843310Z"
    }
   },
   "outputs": [],
   "source": [
    "class Perceptron2(object):\n",
    "    \"\"\"Perceptron classifier.\n",
    "    \n",
    "    Parameters\n",
    "    ------------\n",
    "    eta: float \n",
    "        Learning rate (between 0.0 and 1.0)\n",
    "    n_iter: int\n",
    "        Number of epochs, i.e., passes over the training dataset.\n",
    "        \n",
    "    Attributes\n",
    "    ------------\n",
    "    w_: 1d-array\n",
    "        Weights after fitting.\n",
    "    errors_: list\n",
    "        Number of misclassifications in every epoch.\n",
    "    random_state : int\n",
    "        The seed of the pseudo random number generator.\n",
    "    \"\"\"\n",
    "    \n",
    "    def __init__(self, eta=0.01, n_iter=10, random_state=1):\n",
    "        self.eta = eta\n",
    "        self.n_iter = n_iter\n",
    "        self.random_state = random_state\n",
    "    \n",
    "    def fit(self, X, y):\n",
    "        \"\"\"Fit training data.\n",
    "\n",
    "        Parameters\n",
    "        ----------\n",
    "        X : array-like; shape = [n_samples, n_features]\n",
    "            Training vectors, where n_samples is the number of samples and\n",
    "            n_features is the number of features.\n",
    "        y : array-like; shape = [n_samples]\n",
    "            Target values, or labels.\n",
    "\n",
    "        Returns\n",
    "        -------\n",
    "        self : object\n",
    "\n",
    "        \"\"\"\n",
    "        rgen = np.random.RandomState(self.random_state)\n",
    "        self.w_ = rgen.normal(loc=0.0, scale=0.01, size=1+X.shape[1])\n",
    "        self.errors_ = []\n",
    "        \n",
    "        for _ in range(self.n_iter):\n",
    "            errors = 0.0\n",
    "            for xi, yi in zip(X, y):\n",
    "                output = self.predict(xi)\n",
    "                error = (yi - output)\n",
    "                self.w_[1:] += self.eta * error * xi\n",
    "                self.w_[0] += self.eta * error\n",
    "                errors += int(error != 0.0)\n",
    "            self.errors_.append(errors)\n",
    "        return self\n",
    "    \n",
    "    def net_input(self, X):\n",
    "        \"\"\"Calculate net input\"\"\"\n",
    "        return np.dot(X, self.w_[1:]) + self.w_[0]\n",
    "    \n",
    "    def predict(self, X):\n",
    "        \"\"\"Return class label after unit step\"\"\"\n",
    "        return np.where(self.net_input(X) >= 0.0, 1, -1)"
   ]
  },
  {
   "cell_type": "markdown",
   "id": "a504187d-d48c-410e-909f-2fa9c82f3f76",
   "metadata": {},
   "source": [
    "OBS: \n",
    "\n",
    "Poderíamos ter implementado a versão abreviada de x e W para incluir o termo de viés (bias). No entanto, destacamos a adição do termo de viés (self.w_[0]) por motivos de desempenho, pois ao adicionar um vetor de 1 ao array de treinamento toda vez que queremos fazer uma previsão seria ineficiente.\n",
    "\n",
    "Algumas implementações de produção embaralham os dados no início de cada época. Esta etapa é omitida para simplificar.\n",
    "\n",
    "Para treinar o modelo Perceptron binário usando o conjunto de dados Iris, recriamos nossos conjuntos de treinamento e teste para que contenham apenas rótulos binários:"
   ]
  },
  {
   "cell_type": "code",
   "execution_count": 8,
   "id": "8eb33953-be72-4289-9da4-720fc3831856",
   "metadata": {
    "execution": {
     "iopub.execute_input": "2022-11-29T22:29:21.967216Z",
     "iopub.status.busy": "2022-11-29T22:29:21.966749Z",
     "iopub.status.idle": "2022-11-29T22:29:22.096133Z",
     "shell.execute_reply": "2022-11-29T22:29:22.095271Z",
     "shell.execute_reply.started": "2022-11-29T22:29:21.967160Z"
    }
   },
   "outputs": [
    {
     "name": "stdout",
     "output_type": "stream",
     "text": [
      "Misclassified samples: 3\n",
      "Accuracy: 0.70\n"
     ]
    }
   ],
   "source": [
    "# training\n",
    "\n",
    "ppn2 = Perceptron2(eta=0.1, n_iter=20)\n",
    "\n",
    "ppn2.fit(X_train_std, y_train)\n",
    "\n",
    "# testing\n",
    "\n",
    "y_pred = ppn2.predict(X_test_std)\n",
    "print('Misclassified samples: %d' % (y_test != y_pred).sum())\n",
    "print('Accuracy: %.2f' % accuracy_score(y_test, y_pred))"
   ]
  },
  {
   "cell_type": "markdown",
   "id": "67bdc987-567e-4ad2-ae34-6a60de94d532",
   "metadata": {},
   "source": [
    "Nosso modelo Perceptron atinge 70% de precisão, o que não é muito bom. Isso ocorre principalmente porque o algoritmo de treinamento não converge quando os pontos de dados não são separáveis linearmente (por um hiperplano)."
   ]
  },
  {
   "cell_type": "markdown",
   "id": "b999e4c2-f5f2-47e1-b5a8-0593d848bfc0",
   "metadata": {},
   "source": [
    "## Função que Implementa Perceptro Adaline com Gradiente Descendente"
   ]
  },
  {
   "cell_type": "markdown",
   "id": "ec023611-893d-435a-84f6-4055089f91fe",
   "metadata": {},
   "source": [
    "O ADaptive LInear NEuron (Adaline) é semelhante ao Perceptron, exceto que ele define uma função de custo baseada no soft output e um problema de otimização. Podemos, portanto, aproveitar várias técnicas de otimização para treinar Adaline de uma maneira mais teórica. Vamos implementar o Adaline usando o algoritmo de gradiente descendente (GD) em lote:"
   ]
  },
  {
   "cell_type": "code",
   "execution_count": 9,
   "id": "2615756c-762b-49b9-88ec-5238790e6592",
   "metadata": {
    "execution": {
     "iopub.execute_input": "2022-11-29T22:29:22.097080Z",
     "iopub.status.busy": "2022-11-29T22:29:22.096932Z",
     "iopub.status.idle": "2022-11-29T22:29:22.207310Z",
     "shell.execute_reply": "2022-11-29T22:29:22.206192Z",
     "shell.execute_reply.started": "2022-11-29T22:29:22.097063Z"
    }
   },
   "outputs": [],
   "source": [
    "class AdalineGD(object):\n",
    "    \"\"\"ADAptive LInear NEuron classifier.\n",
    "\n",
    "    Parameters\n",
    "    ------------\n",
    "    eta : float\n",
    "        Learning rate (between 0.0 and 1.0)\n",
    "    n_iter : int\n",
    "        Passes over the training dataset.\n",
    "    random_state : int\n",
    "        The seed of the pseudo random number generator.\n",
    "\n",
    "    Attributes\n",
    "    -----------\n",
    "    w_ : 1d-array\n",
    "        Weights after fitting.\n",
    "    errors_ : list\n",
    "        Number of misclassifications in every epoch.\n",
    "\n",
    "    \"\"\"\n",
    "    def __init__(self, eta=0.01, n_iter=50, random_state=1):\n",
    "        self.eta = eta\n",
    "        self.n_iter = n_iter\n",
    "        self.random_state = random_state\n",
    "\n",
    "    def fit(self, X, y):\n",
    "        \"\"\" Fit training data.\n",
    "\n",
    "        Parameters\n",
    "        ----------\n",
    "        X : array-like; shape = [n_samples, n_features]\n",
    "            Training vectors, where n_samples is the number of samples and\n",
    "            n_features is the number of features.\n",
    "        y : array-like; shape = [n_samples]\n",
    "            Target values or labels.\n",
    "\n",
    "        Returns\n",
    "        -------\n",
    "        self : object\n",
    "\n",
    "        \"\"\"\n",
    "        rgen = np.random.RandomState(self.random_state)\n",
    "        self.w_ = rgen.normal(loc=0.0, scale=0.01, size=1+X.shape[1])\n",
    "        self.cost_ = []\n",
    "\n",
    "        for i in range(self.n_iter):\n",
    "            output = self.activation(X)\n",
    "            \n",
    "            # Cost function\n",
    "            error = (y - output)\n",
    "            cost = (error**2).sum() / 2.0\n",
    "            self.cost_.append(cost)\n",
    "            \n",
    "            # Update rule\n",
    "            self.w_[1:] += self.eta * X.T.dot(error)\n",
    "            self.w_[0] += self.eta * error.sum()\n",
    "            \n",
    "        return self\n",
    "\n",
    "    def net_input(self, X):\n",
    "        \"\"\"Calculate net input\"\"\"\n",
    "        return np.dot(X, self.w_[1:]) + self.w_[0]\n",
    "\n",
    "    def activation(self, X):\n",
    "        \"\"\"Compute linear activation\"\"\"\n",
    "        return self.net_input(X)\n",
    "\n",
    "    def predict(self, X):\n",
    "        \"\"\"Return class label after unit step\"\"\"\n",
    "        return np.where(self.activation(X) >= 0.0, 1, -1)"
   ]
  },
  {
   "cell_type": "markdown",
   "id": "8904c9cb-10e6-4c77-90d6-46d05862700f",
   "metadata": {},
   "source": [
    "Uma boa taxa de aprendizado (η) é a chave para a convergência ótima. Na prática, muitas vezes requer alguma experimentação para encontrar uma boa taxa de aprendizado. Vamos plotar o custo em relação ao número de épocas para as duas taxas de aprendizado diferentes:"
   ]
  },
  {
   "cell_type": "code",
   "execution_count": 10,
   "id": "cb1b27ea-4399-4242-add2-6d313971d6ed",
   "metadata": {
    "execution": {
     "iopub.execute_input": "2022-11-29T22:29:22.208522Z",
     "iopub.status.busy": "2022-11-29T22:29:22.208336Z",
     "iopub.status.idle": "2022-11-29T22:29:22.789788Z",
     "shell.execute_reply": "2022-11-29T22:29:22.788638Z",
     "shell.execute_reply.started": "2022-11-29T22:29:22.208501Z"
    }
   },
   "outputs": [
    {
     "data": {
      "image/png": "[encoded data removed]",
      "text/plain": [
       "<Figure size 576x288 with 2 Axes>"
      ]
     },
     "metadata": {
      "needs_background": "light"
     },
     "output_type": "display_data"
    }
   ],
   "source": [
    "fig, ax = plt.subplots(nrows=1, ncols=2, figsize=(8, 4))\n",
    "\n",
    "ada1 = AdalineGD(n_iter=20, eta=0.0001).fit(X_train_std, y_train)\n",
    "ax[0].plot(range(1, len(ada1.cost_) + 1), ada1.cost_, marker='o')\n",
    "ax[0].set_xlabel('Epochs')\n",
    "ax[0].set_ylabel('Sum-squared-error')\n",
    "ax[0].set_title('Adaline - Learning rate 0.0001')\n",
    "\n",
    "ada2 = AdalineGD(n_iter=20, eta=0.1).fit(X_train_std, y_train)\n",
    "ax[1].plot(range(1, len(ada2.cost_) + 1), np.log10(ada2.cost_), marker='o')\n",
    "ax[1].set_xlabel('Epochs')\n",
    "ax[1].set_ylabel('log(Sum-squared-error)')\n",
    "ax[1].set_title('Adaline - Learning rate 0.1')\n",
    "\n",
    "plt.tight_layout()\n",
    "plt.savefig('./fig-adaline-gd-overshoot.png', dpi=300)\n",
    "plt.show()"
   ]
  },
  {
   "cell_type": "markdown",
   "id": "07d75a28-75e9-4e3b-85fa-f36c5b28f9d7",
   "metadata": {},
   "source": [
    "A figura à esquerda mostra o que pode acontecer se escolhermos uma taxa de aprendizado muito pequena: embora o custo diminua, a descida é muito pequena para que o algoritmo exija um grande número de épocas para convergir. Por outro lado, a figura da direita mostra o que pode acontecer se escolhermos uma taxa de aprendizado muito grande: em vez de minimizar a função de custo, o erro se torna maior a cada época porque ultrapassamos o ponto ótimo todas as vezes."
   ]
  },
  {
   "cell_type": "code",
   "execution_count": 11,
   "id": "d3f1a1f8-8613-4974-a67f-a3f3803310b2",
   "metadata": {
    "execution": {
     "iopub.execute_input": "2022-11-29T22:29:22.791449Z",
     "iopub.status.busy": "2022-11-29T22:29:22.791224Z",
     "iopub.status.idle": "2022-11-29T22:29:23.092352Z",
     "shell.execute_reply": "2022-11-29T22:29:23.091697Z",
     "shell.execute_reply.started": "2022-11-29T22:29:22.791423Z"
    }
   },
   "outputs": [
    {
     "data": {
      "image/png": "[encoded data removed]",
      "text/plain": [
       "<Figure size 432x288 with 1 Axes>"
      ]
     },
     "metadata": {
      "needs_background": "light"
     },
     "output_type": "display_data"
    },
    {
     "name": "stdout",
     "output_type": "stream",
     "text": [
      "Misclassified samples: 2\n",
      "Accuracy: 0.80\n"
     ]
    }
   ],
   "source": [
    "ada = AdalineGD(n_iter=20, eta=0.01)\n",
    "ada.fit(X_train_std, y_train)\n",
    "\n",
    "# cost values\n",
    "\n",
    "plt.plot(range(1, len(ada.cost_) + 1), ada.cost_, marker='o')\n",
    "plt.xlabel('Epochs')\n",
    "plt.ylabel('Sum-squared-error')\n",
    "\n",
    "plt.tight_layout()\n",
    "plt.savefig('./fig-adalin-gd-cost.png', dpi=300)\n",
    "plt.show()\n",
    "\n",
    "# testing accuracy\n",
    "\n",
    "y_pred = ada.predict(X_test_std)\n",
    "print('Misclassified samples: %d' % (y_test != y_pred).sum())\n",
    "print('Accuracy: %.2f' % accuracy_score(y_test, y_pred))\n",
    "\n"
   ]
  },
  {
   "cell_type": "markdown",
   "id": "f44189e2-f4eb-4628-995e-61729ec8f877",
   "metadata": {},
   "source": [
    "Com uma taxa de aprendizagem devidamente escolhida η, o AdalineGD converge e oferece uma melhor precisão de previsão (80%) em comparação com o Perceptron (70%):"
   ]
  },
  {
   "cell_type": "markdown",
   "id": "35a9324e-d055-4f29-88cc-1079a2ca1a50",
   "metadata": {},
   "source": [
    "## Função que Implementa Perceptro Adaline com Gradiente Descendente Estocástico"
   ]
  },
  {
   "cell_type": "markdown",
   "id": "ff5a4dcd-4113-4d9a-a946-236818b9a3e6",
   "metadata": {},
   "source": [
    "Executar a descida do gradiente pode ser computacionalmente custoso quando o número de exemplos N em um conjunto de dados de treinamento é grande, pois precisamos varrer todo o conjunto de dados toda vez para dar um passo de descida. A descida do gradiente estocástico (SGD) atualiza os pesos de forma incremental para cada minilote de tamanho M, M≪N. O SGD geralmente atinge a convergência muito mais rapidamente devido às atualizações de peso mais frequentes. Como cada gradiente é calculado com base em poucos exemplos de treinamento, o ponto tomado em cada etapa pode \"vagar\" aleatoriamente e o valor do custo nem sempre diminui. No entanto, isso pode ser considerado uma vantagem, pois pode escapar de mínimos locais rasos quando a função de custo não é convexa. Para evitar que o SGD se desvie do ponto ideal, geralmente substituímos a taxa de aprendizado constante η por uma taxa de aprendizagem adaptativa que diminui ao longo do tempo.\n"
   ]
  },
  {
   "cell_type": "code",
   "execution_count": 12,
   "id": "ed3b220e-6795-43e3-881b-c0310368a636",
   "metadata": {
    "execution": {
     "iopub.execute_input": "2022-11-29T22:29:23.093553Z",
     "iopub.status.busy": "2022-11-29T22:29:23.093392Z",
     "iopub.status.idle": "2022-11-29T22:29:23.106459Z",
     "shell.execute_reply": "2022-11-29T22:29:23.105631Z",
     "shell.execute_reply.started": "2022-11-29T22:29:23.093534Z"
    }
   },
   "outputs": [],
   "source": [
    "class AdalineSGD(object):\n",
    "    \"\"\"ADAptive LInear NEuron classifier.\n",
    "\n",
    "    Parameters\n",
    "    ------------\n",
    "    eta : float\n",
    "        Learning rate (between 0.0 and 1.0)\n",
    "    n_iter : int\n",
    "        Passes over the training dataset.\n",
    "\n",
    "    Attributes\n",
    "    -----------\n",
    "    w_ : 1d-array\n",
    "        Weights after fitting.\n",
    "    errors_ : list\n",
    "        Number of misclassifications in every epoch.\n",
    "    shuffle : bool (default: True)\n",
    "        Shuffles training data every epoch if True to prevent cycles.\n",
    "    random_state : int\n",
    "        Set random state for shuffling and initializing the weights.\n",
    "        \n",
    "    \"\"\"\n",
    "    def __init__(self, eta=0.01, n_iter=50, shuffle=True, random_state=1):\n",
    "        self.eta = eta\n",
    "        self.n_iter = n_iter\n",
    "        self.w_initialized = False\n",
    "        self.shuffle = shuffle\n",
    "        if random_state : seed(random_state)\n",
    "        \n",
    "    def fit(self, X, y):\n",
    "        \"\"\" Fit training data.\n",
    "\n",
    "        Parameters\n",
    "        ----------\n",
    "        X : array-like; shape = [n_samples, n_features]\n",
    "            Training vectors, where n_samples is the number of samples and\n",
    "            n_features is the number of features.\n",
    "        y : array-like; shape = [n_samples]\n",
    "            Target values or labels.\n",
    "\n",
    "        Returns\n",
    "        -------\n",
    "        self : object\n",
    "\n",
    "        \"\"\"\n",
    "        self._initialize_weights(X.shape[1])\n",
    "        self.cost_ = []\n",
    "        for i in range(self.n_iter):\n",
    "            if self.shuffle:\n",
    "                X, y = self._shuffle(X, y)\n",
    "            cost = []\n",
    "            for xi, yi in zip(X, y):\n",
    "                cost.append(self._update_weights(xi, yi))\n",
    "            avg_cost = sum(cost) / len(y)\n",
    "            self.cost_.append(avg_cost)\n",
    "        return self\n",
    "\n",
    "    def _shuffle(self, X, y):\n",
    "        \"\"\"Shuffle training data\"\"\"\n",
    "        r = np.random.permutation(len(y))\n",
    "        return X[r], y[r]\n",
    "    \n",
    "    def _initialize_weights(self, m):\n",
    "        \"\"\"Randomly initialize weights\"\"\"\n",
    "        self.w_ = np.random.normal(loc=0.0, scale=0.01, size=1 + m)\n",
    "        self.w_initialized = True\n",
    "        \n",
    "    def _update_weights(self, xi, yi):\n",
    "        \"\"\"Apply Adaline learning rule to update the weights\"\"\"\n",
    "        output = self.activation(xi)\n",
    "        \n",
    "        # Cost function\n",
    "        error = (yi - output)\n",
    "        cost = 0.5 * error**2\n",
    "        \n",
    "        # Update rule\n",
    "        self.w_[1:] += self.eta * xi.dot(error)\n",
    "        self.w_[0] += self.eta * error\n",
    "        \n",
    "        return cost\n",
    "    \n",
    "    def net_input(self, X):\n",
    "        \"\"\"Calculate net input\"\"\"\n",
    "        return np.dot(X, self.w_[1:]) + self.w_[0]\n",
    "\n",
    "    def activation(self, X):\n",
    "        \"\"\"Compute linear activation\"\"\"\n",
    "        return self.net_input(X)\n",
    "\n",
    "    def predict(self, X):\n",
    "        \"\"\"Return class label after unit step\"\"\"\n",
    "        return np.where(self.activation(X) >= 0.0, 1, -1)\n",
    "\n",
    "    def partial_fit(self, X, y):\n",
    "        \"\"\"Fit training data without reinitializing the weights\"\"\"\n",
    "        if not self.w_initialized:\n",
    "            self._initialize_weights(X.shape[1])\n",
    "        if y.ravel().shape[0] > 1:\n",
    "            for xi, yi in zip(X, y):\n",
    "                self._update_weights(xi, yi)\n",
    "        else:\n",
    "            self._update_weights(X, y)\n",
    "        return self"
   ]
  },
  {
   "cell_type": "markdown",
   "id": "2d73ad1c-503d-43e3-9abb-e13078e9f7af",
   "metadata": {},
   "source": [
    "Vamos ver como Adaline se sai com SGD:"
   ]
  },
  {
   "cell_type": "code",
   "execution_count": 13,
   "id": "dfcbfa0e-e7e0-41ea-8844-4ebeee59d9a2",
   "metadata": {
    "execution": {
     "iopub.execute_input": "2022-11-29T22:29:23.107401Z",
     "iopub.status.busy": "2022-11-29T22:29:23.107253Z",
     "iopub.status.idle": "2022-11-29T22:29:23.566887Z",
     "shell.execute_reply": "2022-11-29T22:29:23.566200Z",
     "shell.execute_reply.started": "2022-11-29T22:29:23.107383Z"
    }
   },
   "outputs": [
    {
     "data": {
      "image/png": "[encoded data removed]",
      "text/plain": [
       "<Figure size 432x288 with 1 Axes>"
      ]
     },
     "metadata": {
      "needs_background": "light"
     },
     "output_type": "display_data"
    },
    {
     "name": "stdout",
     "output_type": "stream",
     "text": [
      "Misclassified samples: 2\n",
      "Accuracy: 0.80\n"
     ]
    }
   ],
   "source": [
    "adas = AdalineSGD(n_iter=20, eta=0.01, random_state=1)\n",
    "adas.fit(X_train_std, y_train)\n",
    "\n",
    "# Cost values\n",
    "plt.plot(range(1, len(adas.cost_) + 1), adas.cost_, \n",
    "         marker='o', label='SGD')\n",
    "plt.plot(range(1, len(ada.cost_) + 1), np.array(ada.cost_) / len(y_train), \n",
    "         marker='x', linestyle='--', label='GD')\n",
    "plt.xlabel('Epochs')\n",
    "plt.ylabel('Sum-squared-error')\n",
    "plt.legend(loc='upper right')\n",
    "\n",
    "plt.tight_layout()\n",
    "plt.savefig('./fig-adaline-sgd-cost.png', dpi=300)\n",
    "plt.show()\n",
    "\n",
    "# Testing accuracy\n",
    "y_pred = adas.predict(X_test_std)\n",
    "print('Misclassified samples: %d' % (y_test != y_pred).sum())\n",
    "print('Accuracy: %.2f' % accuracy_score(y_test, y_pred))"
   ]
  },
  {
   "cell_type": "markdown",
   "id": "99db6b5b-5b9d-40dc-88e2-86431311c65c",
   "metadata": {},
   "source": [
    "Como podemos ver, o valor do custo diminui rapidamente e é apenas ligeiramente pior do que o valor do custo (normalizado) da descida do gradiente do lote após 7 épocas.\n",
    "\n",
    "Outra vantagem do gradiente descendente estocástico é que podemos usá-lo para aprendizado online. No aprendizado on-line, um modelo é treinado em tempo real à medida que novos dados de treinamento chegam. Isso é especialmente útil se estivermos acumulando grandes quantidades de dados ao longo do tempo. Por exemplo, dados de clientes em aplicativos da Web. Usando o aprendizado online, o sistema pode se adaptar imediatamente às mudanças sem treinar do zero. Além disso, se o espaço de armazenamento for um problema, podemos descartar os dados de treinamento após atualizar o modelo."
   ]
  },
  {
   "cell_type": "code",
   "execution_count": null,
   "id": "014fc6d1-e40c-411b-bf5e-97bbb9035d39",
   "metadata": {},
   "outputs": [],
   "source": []
  }
 ],
 "metadata": {
  "kernelspec": {
   "display_name": "Python 3 (ipykernel)",
   "language": "python",
   "name": "python3"
  },
  "language_info": {
   "codemirror_mode": {
    "name": "ipython",
    "version": 3
   },
   "file_extension": ".py",
   "mimetype": "text/x-python",
   "name": "python",
   "nbconvert_exporter": "python",
   "pygments_lexer": "ipython3",
   "version": "3.8.10"
  }
 },
 "nbformat": 4,
 "nbformat_minor": 5
}
